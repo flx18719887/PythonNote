{
 "cells": [
  {
   "cell_type": "markdown",
   "metadata": {},
   "source": [
    "### 命名规范\n",
    "\n",
    "程序代码中到处都是标识符 ， 因此取一个一致并且符合规范的名字非常重要 。 Python 中命名规范采用多种不同方式。\n",
    "不同的代码元素命名不同，下面将分类说明。\n",
    "\n",
    "- 包名 ： 全部小写字母 ，中间可以由的隔开，不推荐使用下画线。作为命名空间，包名应该具有唯一性，推荐采用公司或组织域名的倒置 ，如 com.apple . quicktime .v2 。\n",
    "- 模块名 ： 全部小写字母，如果是多个单词构成， 可以用下画线隔开， 如 dummy_threading 。\n",
    "- 类名 ： 采用大驼峰法命名 ，如 Sp litView Controller 。\n",
    "- 异常名：异常属于类 ， 命名同类命名，但应该使用 Error 作为后缀。如 FileNotFoundError 。\n",
    "- 变量名 ： 全部小写字母，如果由多个单词构成，可以用下画线隔开 。 如果变量应用于模块或函数内部，则变量名可以由单下画线开头；变量类内部私有使用变量名可以双下画线开头。不要命名双下画线开头和结尾的变量，这是 Python 保留的 。 另外，避免使用小写 L、 大写 O 和大写 I 作为变量名。\n",
    "- 函数名和方法名 ： 命名同变量命名 ，如 balance_account 、 _push_cm_ exit 。\n",
    "- 常量名 ： 全部大写字母 ，如果是由多个单词构成，可以用下画线隔开，如 YEAR 和 WEEK OF MONTH 。\n",
    "#### 大驼峰法命名是驼峰命名的一种，驼峰命名是指混合使用大小写字母来命名。\n",
    "\n",
    "```buildoutcfg\n",
    "\n",
    "驼峰命名分为小驼峰法和大驼峰法。\n",
    "- 小驼峰法就是第一个单词全部小写，后面的单词首字母大写，如 myRoomCount ； \n",
    "- 大驼峰法是第一个单词的首字母也大写，如 ClassRoom。\n",
    "```"
   ]
  },
  {
   "cell_type": "markdown",
   "metadata": {},
   "source": [
    "### 注释规范\n",
    "\n",
    "Python 中注释的语法有三种：单行注释、多行注释和文档注释 。 \n",
    "\n",
    "#### 文件注辉\n",
    "文件注释就是在每一个文件开头添加注释 ，采用多行注释。文件注释通常包括如下信息 ：版权信息、文件名、所在模块、作者信息、历史版本信息、文件内容和作用等。\n",
    "\n",
    "#### 文档注释\n",
    "文档注释就是文档字符串 ， 注释内容能够生成 API 帮助文档，可以使用 Python 官方提供的 pydoc 工具从 Python 源代码文件中提取这些信息，也可以生成 HTML 文件。所有公有的模块、函数、类和方法都应该进行文档注释。文档注释规范有些“苛刻”。文档注释推荐使用一对三重双引号“ \"\"\" ”包裹起来，注意不推荐使用三重单引号 “ ''' ” 。文档注释应该位于被注释的模块、函数、类和方法内部的第一条语句。如果文档注释一行能够注释完成，结束的三重双引号也在同一行。如果文档注释很长 ，第一行注释之后要留一个空行 ， 然后剩下的注释内容换行要与开始三重双引号对齐，最后结束的三重双引号要独占一行 ，并与开始三重双引号对齐 。\n",
    "#### 代码注择\n",
    "程序代码中处理文档注释时还需要在一些关键的地方添加代码注释 ， 文档注释一般是给一些看不到源代码的人看的帮助文档 ，而代码注释是给阅读源代码的人参考 的 。 代码注释一般采用单行注释和多行注释。\n",
    "#### TODO 注释\n",
    "PyCharm 等 IDE 工具都为源代码提供了 一些特殊的注释 ， 就是在代码中加 一 些标识，便于 IDE 工具快速定位代码 ， TODO 注释就是其中 的一种。 TODO 注释虽然不是 Python 官方所提供的 ，但是主流的 IDE 工具也都支持 TODO 注释。有 TODO 注释说明此处有待处理的任务 ，或代码没有编写完成。"
   ]
  },
  {
   "cell_type": "markdown",
   "metadata": {},
   "source": [
    "### 导入规范\n",
    "- 导入语句总是放在文件顶部，位于模块注释和文档注释之后，模块全局变量和常量之前。每一个导入语句只能导入一个模块。\n",
    "\n",
    "```\n",
    "推荐 ：\n",
    "\n",
    "import re\n",
    "\n",
    "import struct\n",
    "\n",
    "import binascii\n",
    "\n",
    "不推荐 ：import re, struct , binascii\n",
    "\n",
    "但是如果 from import 后面跟有多个代码元素是可以的，from codeop import CommandCompiler , compile command\n",
    "```\n",
    "\n",
    "- 导入语句应该按照从通用到特殊的顺序分组 ， 顺序是 ： 标准库→第三方库→ 自己模块。每一组之间有一个空行，而且组中模块是按照英文字母顺序排序的。"
   ]
  },
  {
   "cell_type": "markdown",
   "metadata": {},
   "source": [
    "### 代码排版\n",
    "- 代码排版包括空行 、 空格、断行和缩进等内容 。 代码排版内容比较多，非常重要。\n",
    "\n",
    "#### 空行\n",
    "空行用以将逻辑相关的代码段分隔开，以提高可读性。下面是使用空行的规范：\n",
    "```\n",
    "（1）import 语句块前后保留两个空行。\n",
    "（2）函数声明之前保留两个空行。\n",
    "（3）类声明之前保留两个空行。\n",
    "（4）方法声明之前保留一个空行。\n",
    "（5）两个逻辑代码块之间应该保留一个空行。\n",
    "```\n",
    "#### 空格\n",
    "代码中的有些位置是需要有空格的，这个工作量也很大。下面是使用空格的规范：\n",
    "```\n",
    "（1）赋值符号“＝”前后各有一个空格。\n",
    "    a = 10\n",
    "    c = 10\n",
    "（2）所有的二元运算符都应该使用空格与操作数分开。\n",
    "a += c + d\n",
    "（3） 一元运算符：算法运算符取反“”和运算符取反“ ～ ” 。\n",
    "b = 10\n",
    "a = -b\n",
    "y =~b\n",
    "（4）括号内不要有空格， Python 中括号包括小括号“（）飞中括号“ ［］”和 大括号“｛｝”。\n",
    "推荐 ：\n",
    "doque{cat[l], {dogs : 2) , [])\n",
    "不推荐 ：\n",
    "doque(cat[ 1], {dogs : 2 }, [ ])\n",
    "（5）不要在逗号 、 分号、冒号前面有空格，而是要在它们后面有一个空格，除非该符号已\n",
    "经是行尾了。\n",
    "推荐：\n",
    "if x == 88:\n",
    "print x, y\n",
    "x, y = y , x\n",
    "不推荐 ：\n",
    "if x == 88 :\n",
    "    print x , y\n",
    "   x , y = y , x\n",
    "（6）参数列表 、索引或切片的左括号前不应有空格。\n",
    "推荐：\n",
    "doque(l)\n",
    "dogs[\"key\"] = list[index]\n",
    "不推荐：\n",
    "doque (1)\n",
    "dict [\"key \"] = list [index]\n",
    "\n",
    "```\n"
   ]
  },
  {
   "cell_type": "code",
   "execution_count": null,
   "metadata": {},
   "outputs": [],
   "source": []
  }
 ],
 "metadata": {
  "kernelspec": {
   "display_name": "Python 3",
   "language": "python",
   "name": "python3"
  },
  "language_info": {
   "codemirror_mode": {
    "name": "ipython",
    "version": 3
   },
   "file_extension": ".py",
   "mimetype": "text/x-python",
   "name": "python",
   "nbconvert_exporter": "python",
   "pygments_lexer": "ipython3",
   "version": "3.7.3"
  },
  "toc": {
   "base_numbering": 1,
   "nav_menu": {},
   "number_sections": true,
   "sideBar": true,
   "skip_h1_title": false,
   "title_cell": "Table of Contents",
   "title_sidebar": "Contents",
   "toc_cell": false,
   "toc_position": {},
   "toc_section_display": true,
   "toc_window_display": false
  }
 },
 "nbformat": 4,
 "nbformat_minor": 2
}
