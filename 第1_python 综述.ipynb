{
 "cells": [
  {
   "cell_type": "markdown",
   "metadata": {},
   "source": [
    "#### Python 语言历史\n",
    "- 1991 年第一个 Python 解释器公开版发布，它是用 C 语言编写实现的，并能够调用 C 语言的库文件 。 "
   ]
  },
  {
   "cell_type": "markdown",
   "metadata": {},
   "source": [
    "#### Python 语言特点\n",
    "- 1 ）简单易学\n",
    "\n",
    "Python 设计目标之一就是能够方便学习，使用简单 。 它使你能够专注于解决问题而不是过多关注语言本身。\n",
    "- 2 ）面向对象\n",
    "\n",
    "Python 支持面 向对象的编程。与其他主要 的语言如 C＋＋和 Java 相比， Python 以 一种非常强大又简单的方式实现面向对象编程 。\n",
    "- 3 ）解释性\n",
    "\n",
    "Python 是解释执行的，即 Python 程序不需要编译成 二进制代码，可以直接从源代码运行程序 。 在计算机内部， Python 解释器把源代码转换成为中间字节码形式，然后再把它解释为计算机使用的机器语言并执行。\n",
    "\n",
    "- 4 ）免费开源\n",
    "\n",
    "Python 是免费开放源码的软件 。 简单地说，你可以自由 地转发这个软件、阅读它 的 源代码、对它做改动、把它的一部分用于新的自由软件中。\n",
    "- 5 ）可移植性\n",
    "\n",
    "Python 解释器己经被移植在许多平台上， Python 程序无须修改就可以在 多 个平台上运行 。\n",
    "- 6 ）胶水语言\n",
    "\n",
    "Python 被称为胶水语言 ，所谓 胶水语言是用来连接其他语言编写的软件组件或模块 。Python 能够称为胶 水语言是因为标准版本 Python 是用 C 编译 的，称为 CPython 。所 以 Python可以调用 C 语言，借助于 C 接口 Python 几乎可以驱动所有己知 的软件 。\n",
    "- 7 ）丰富的库\n",
    "\n",
    "Python 标准库（官方提供 的 ） 种类繁多，它可 以帮助处理各种 工作，这些库不需要安装直接可以使用 。 除了标准库 以外 ，还有许多其他高质量的库可以使用 。\n",
    "- 8 ）规范的代码\n",
    "\n",
    "Python 采用强制缩进的方式使得代码具有极佳的可读性。\n",
    "- 9 ）支持函数式编程\n",
    "\n",
    "虽然 Python 并不是一种单纯的函数式编程，但是也提供了 函数式编程的支持，如函数类型、 Lambda 表达式、高阶函数和匿名函数等。\n",
    "- 10 ）动态类型\n",
    "\n",
    "Python 是动态类型语言，它不会检查数据类型 ，在变量声 明时不需要指定数据类型 。"
   ]
  },
  {
   "cell_type": "markdown",
   "metadata": {},
   "source": [
    "#### 三个 Python 解释器虚拟环境 \n",
    "- Virtuallenv Environment 是 Python 解释器 虚拟环境，当有多个不同的 Python 版本需 要切换时，可以使用该选项 。\n",
    "\n",
    "- Conda Environment 是配置 Conda 环境， Conda 是 一个开源的软件包管理系统和环境管理系统 。 安装 Conda 一般是通过安装 Anaconda 实现的， Anaconda 是一个 Python 语言的免费增值发行版，用于进行大规模数据处理、预测分析和科学计算，致力于简化包的管理和部署 。\n",
    "\n",
    "- System Interpreter 是配置当前系统安装的 Python 解释器，本例中需要选中该选项，然后在右边的 Interpreter 选择当前系统安装的 Python 解释器文件夹。"
   ]
  },
  {
   "cell_type": "markdown",
   "metadata": {},
   "source": [
    "#### Anaconda 是一个 Python 语言的免费增值发行版，用于进行大规模数据处理、预测分析和科学计算，致力于简化包的管理和部署 。"
   ]
  },
  {
   "cell_type": "markdown",
   "metadata": {},
   "source": [
    "#### print 函数语法如下：\n",
    "- print(*objects , sep=’' , end= ’\\ n ’, file=sys.stdout , flush=False )\n",
    "\n",
    "print 函数有五个参数，\n",
    "\n",
    "```\n",
    "＊objects 是可变长度的对象参数 ； \n",
    "\n",
    "sep 是分隔符参数，默认值是一个空格；\n",
    "\n",
    "end 是输出字符串之后的结束符号，默认值是换号符；\n",
    "\n",
    "file 是输出文件参数 ， 默认值sys.stdout 是标准输出 ，即控制台； \n",
    "\n",
    "flush 为是否刷新文件输出流缓冲区 ，如果刷新字符串会马上打印输出默认值不刷新。\n",
    "\n",
    "```"
   ]
  },
  {
   "cell_type": "code",
   "execution_count": null,
   "metadata": {},
   "outputs": [],
   "source": []
  }
 ],
 "metadata": {
  "kernelspec": {
   "display_name": "Python 3",
   "language": "python",
   "name": "python3"
  },
  "language_info": {
   "codemirror_mode": {
    "name": "ipython",
    "version": 3
   },
   "file_extension": ".py",
   "mimetype": "text/x-python",
   "name": "python",
   "nbconvert_exporter": "python",
   "pygments_lexer": "ipython3",
   "version": "3.7.3"
  },
  "toc": {
   "base_numbering": 1,
   "nav_menu": {},
   "number_sections": true,
   "sideBar": true,
   "skip_h1_title": false,
   "title_cell": "Table of Contents",
   "title_sidebar": "Contents",
   "toc_cell": false,
   "toc_position": {},
   "toc_section_display": true,
   "toc_window_display": false
  }
 },
 "nbformat": 4,
 "nbformat_minor": 2
}
