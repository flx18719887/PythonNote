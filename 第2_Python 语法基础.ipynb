{
 "cells": [
  {
   "cell_type": "markdown",
   "metadata": {},
   "source": [
    "#### 标识符\n",
    "- 标识符就是变量、常量、函数、属性、类、模块和包等由程序员指定 的名字。 构成标识符的字符均有一定 的规范 ，Python 语言中标识符的命名规则如下：\n",
    "\n",
    "（1）区分大小写， Myname 与 myname 是两个不同的标识符；\n",
    "\n",
    "（2）首字符可以是下画线“”或字母，但不能是数字 ；\n",
    "\n",
    "（3）除首字符外其他字符 ， 可以是下画线“”、字母和数字 ；\n",
    "\n",
    "（4）关键 字不能作为标识符 ；\n",
    "\n",
    "（5）不能使用 Python 内 置函数作为自 己的标识符 。\n",
    "\n",
    "例如，身高、 identifier 、 userName 、 User_Name 、 ＿sys_va l 等为合法的标识符，注意中文“身高”命名的变量是合法的。\n",
    "\n",
    "而 2mail 、 room＃、\\$Name 和 class 为非法的标识符。\n",
    "\n",
    "注意＃ 和 \\$  不能构成标识符 。"
   ]
  },
  {
   "cell_type": "markdown",
   "metadata": {},
   "source": [
    "#### 关键字\n",
    "关键字是类似于标识符的字符序列 ，由语言本身定义好 。 Python 语言中有 33 个关键字 ，只有三个，即 False 、 None 和 True 首字母大写，其他的全部小写 。"
   ]
  },
  {
   "cell_type": "markdown",
   "metadata": {},
   "source": [
    "#### 变量\n",
    "\n",
    "常量和变量是构成表达式的重要组成部分 。\n",
    "\n",
    "在Python中声明变量时不需要指定它的数据类型，只要是给一个标识符赋值就声明了变量。\n",
    "\n",
    "变量声明不需要指定数据类型，你赋给它什么数值，它就是该类型变量了。"
   ]
  },
  {
   "cell_type": "markdown",
   "metadata": {},
   "source": [
    "#### 常量\n",
    "在很多语言中常量的定义是一旦初始化后就不能再被修改的 。 \n",
    "\n",
    "而 Python 不能从语法层面上定义常量， Python 没有提供一个关键字使得变量不能被修改 。 \n",
    "\n",
    "所以在 Python 中只能将变量当成常量使用，只是不要修改它 。 那么这就带来了一个问题，变量可能会在无意中被修改，从而引发程序错误 。 \n",
    "\n",
    "解决此问题要么靠程序员自律和自查， 要么通过一些技术手段使变量不能修改 。"
   ]
  },
  {
   "cell_type": "markdown",
   "metadata": {},
   "source": [
    "#### 注释\n",
    "Python 程序注释使用井号 \\#，使用时 \\# 位于注释行 的开头 ， \\#后面有一个空格，接着是注释内容。\n",
    "\n",
    "注意：在程序代码中，对容易引起误解的代码进行注释是必要的，但应避免对己清晰表达信息的代码进行注释。需要注意的是，频繁地注释有时反映了代码的低质量。当觉得被迫要加注释的时候，不妨考虑一下重写代码使其更清晰。"
   ]
  },
  {
   "cell_type": "markdown",
   "metadata": {},
   "source": [
    "#### 语句\n",
    "Python 代码是由关键字、标识符 、 表达式和语句等内容构成的， 语句是代码的重要组成部分。\n",
    "\n",
    "语句关注代码的执行过程，如 if、 for 和 while 等。在 Python 语言 中， 一行代码表示一条语句，语句结束可以加分号 ，\n",
    "也可以省略分号。\n",
    "\n",
    "从编程规范的角度讲，语句结束不需要加分号，而且每行至多包含一条语句 。\n",
    "\n",
    "Python 还支持链式赋值语句，如果需要为多个变量赋相同的数值，可以表示为 a = b = c = 10，这条语句是把整数 10 赋值给 a、 b 、 c 三个变量。\n",
    "\n",
    "另外，在 if、 for 和 while 代码块的语句中，代码块不是通过大括号来界定的 ， 而是通过缩进，缩进在一个级别的代码在相同的代码块中。\n",
    "\n",
    "提示：一个缩进级别一般是一个制表符（Tab）或4个空格，考虑到不同的编辑器制表符显示的宽度不同，大部分编程语言规范推荐使用4个空格作为一个缩进级别。"
   ]
  },
  {
   "cell_type": "markdown",
   "metadata": {},
   "source": [
    "#### 模块\n",
    "Python中一个模块就是一个文件，模块是保存代码的最小单位，模块中可以声明变量、常量、函数、属性和类等Python 程序元素。一个模块提供可以访问另外一个模块中的程序元素。\n",
    "\n",
    "\n",
    "可以通过两种 import 语句导入模块中的代码元素：\n",
    "\n",
    "- import ＜模块名＞，这种方式会导入模块所有代码元素 ， 访问时需要加“模块名．”\n",
    "- from ＜模块名＞ import ＜代码元素＞，这种方式只是导入特定的代码元素 ， 访问时不需要加“模块名”。\n",
    "\n",
    "模块事实上提供一种命名空间（ namespace） 。同一个模块内部不能有相同名字的代码元素，但是不同模块可以。\n",
    "\n",
    "##### 命名空间 ， 也称名字空间、名称空间等，它表示着一个标识符（ identifier)的可见范围。\n",
    "\n",
    "一个标识符可在多个命名空间中定义，它在不同命名空间 中的含义是互不相干的。这样，在一个新的命名空间中可定义任何标识符，它们不会与任何已有的标识符发生冲突，因为已有的定义都处于其他命名空间中。"
   ]
  },
  {
   "cell_type": "markdown",
   "metadata": {},
   "source": [
    "#### 包\n",
    "\n",
    "如果有两个相同名字的模块，应如何防止命名冲突呢？那就是使用包（ package）。\n",
    "\n",
    "包是按照文件夹的层次结构管理的 ， 而且每个包下面会有一个 init.py 文件，它告诉解释器这是一个包，这个文件内容一般情况下是空的，但可以编写代码 。"
   ]
  },
  {
   "cell_type": "code",
   "execution_count": null,
   "metadata": {},
   "outputs": [],
   "source": []
  }
 ],
 "metadata": {
  "kernelspec": {
   "display_name": "Python 3",
   "language": "python",
   "name": "python3"
  },
  "language_info": {
   "codemirror_mode": {
    "name": "ipython",
    "version": 3
   },
   "file_extension": ".py",
   "mimetype": "text/x-python",
   "name": "python",
   "nbconvert_exporter": "python",
   "pygments_lexer": "ipython3",
   "version": "3.7.3"
  },
  "toc": {
   "base_numbering": 1,
   "nav_menu": {},
   "number_sections": true,
   "sideBar": true,
   "skip_h1_title": false,
   "title_cell": "Table of Contents",
   "title_sidebar": "Contents",
   "toc_cell": false,
   "toc_position": {},
   "toc_section_display": true,
   "toc_window_display": false
  }
 },
 "nbformat": 4,
 "nbformat_minor": 2
}
