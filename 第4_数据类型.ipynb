{
 "cells": [
  {
   "cell_type": "markdown",
   "metadata": {},
   "source": [
    "在Python中所有的数据类型都是类，每一个变量都是类的“实例P’。没有基本数据类型的概念，所以整数、浮点和字符串也都是类。\n",
    "\n",
    "Python有6种标准数据类型：数字、字符串、列表、元组、集合和字典，而列表、元组、集合和字典可以保存多项数据，它们每一个都是一种数据结构，本书中把它们统称为“数据结构”类型。"
   ]
  },
  {
   "cell_type": "markdown",
   "metadata": {},
   "source": [
    "## 数字类型\n",
    "Python 数字类型有 4 种 ： 整数类型、浮点类型、复数类型和布尔类型。需要注意的是 ， 布尔类型也是数字类型，它事实上是整数类型的一种。\n",
    "\n",
    "### 整数类型(int)\n",
    "默认情况下一个整数值表示十进制数，例如16表示的十进制整数。其他进制，如二进制\n",
    "数、八进制数和十六进制整数表示方式如下：\n",
    "```\n",
    "·二进制数：以Ob或OB为前缀，注意0是阿拉伯数字，不要误认为是英文字母0。\n",
    "·八进制数：以Oo或00为前缀，第一个字符是阿拉伯数字0，第二个字符是英文字母o或0。\n",
    "·十六进制数：以Ox或0X为前缀，注意0是阿拉伯数字\n",
    "```\n",
    "### 浮点类型\n",
    "浮点类型主要用来储存小数数值， Python浮点类型为 float, Python 只支持双精度浮点类型，\n",
    "而且与本机相关。\n",
    "\n",
    "浮点类型可 以使用小数表示 ，也可以使用科学计数法表示 ，科学计数法中会使用大写或小\n",
    "写的 e 表示 10 的指数，如 e2 表示 10^2 。\n",
    "### 复数类型\n",
    "Python 中复数 类型为 complex ，例如 1 + 2j 表示的是实部为 l 、虚部为 2 的复数 。 \n",
    "### 布尔类型\n",
    "Python 中布尔类型为 bool, bool 是 int 的子类，它只有两个值 ： True 和 False 。\n",
    "```\n",
    "任何类型数据都可以通过bool()函数转换为布尔值，那些被认为“没有的”“空的”值会转换为False，反之转换为True。如None（空对象）、False、0、00、Oj（复数）、\"\"（空字符串）、［］（空列表）、()（空元纽）和｛｝（空字典）这些数值会转换为False，否则是True。\n",
    "```"
   ]
  },
  {
   "cell_type": "markdown",
   "metadata": {},
   "source": [
    "## 字符串类型\n",
    "由字符组成的 一串字符序列称为“字符串 ”， 字符串是有顺序的 ，从左到右 ， 索 引从 0 开始依次递增。 Python 中字符串类型是 str。\n",
    "### 字符串表示方式\n",
    "Python 中 字符串的表示方式有如下三种。\n",
    "```\n",
    "· 普通字符串：采用 单引号“ ' ” 或双引号 “ \" ”包裹起来的字符串。\n",
    "· 原始字符串（ raw string）：在普通字符串前加 r ， 字符串中的特殊字符不需要转义，按照字符串的本来 “面目 ”呈现。\n",
    "· 长字符串：字符串中包含了换行缩进等排版字符 ，可以使用三重单引号“ '''”或三重双引号“ \"\"\" ”包裹起来，这就是长字符串。\n",
    "```\n",
    "\n",
    "（1）普通字符串\n",
    "\n",
    "如果想在字符 串 中包含一些特殊的字符，例如换行符、制表符等 ， 在普通字符串 中则 需要转义，前面要加上反斜杠\"＼\"这称为字符转义。\n",
    "\n",
    "字符串中的单引号\" ' \"和双引号\"  \"  \"也可以不用转义符。在包含单引号的字符串中使用双引号包裹字符串 ，；在包含双引号的字符串 中使用单引号包裹字符串。\n",
    "\n",
    "（2）原始字符串 Craw string)\n",
    "\n",
    "在普通字符串前面加字母 r， 表示字符串是原始字符串。原始字符串可以直接按照字符串的字面意思来使用，没有转义字符。\n",
    "\n",
    "（3）长字符串\n",
    "\n",
    "字符串中包含了换行缩进等排版字符时 ，则可以使用长字符串。长字符串中如果包含特殊字符也需要转义 。\n",
    "\n",
    "```\n",
    "函数与方法的区别是：\n",
    "方法是定义在类 中的 函数， 在类 的外部调用时需要通过类或对 象调用，例如上述代码 source_str.find （'m'）就是调用字符 串 对象 source_str 的 find 方法， find方法是在 str 类中定义的 。 \n",
    "\n",
    "而通常的函数不是类 中定义的 ， 也称 为顶层 函数 ，它们不属 于任何一个类，调用时直接使用函数即可 len(source_str）。 \n",
    "```"
   ]
  },
  {
   "cell_type": "code",
   "execution_count": null,
   "metadata": {},
   "outputs": [],
   "source": [
    "同一性测试运算符有两个： i s 和 i s not , is 是判断是同一对象 ， i s not 是判断不是同一对象。"
   ]
  }
 ],
 "metadata": {
  "kernelspec": {
   "display_name": "Python 3",
   "language": "python",
   "name": "python3"
  },
  "language_info": {
   "codemirror_mode": {
    "name": "ipython",
    "version": 3
   },
   "file_extension": ".py",
   "mimetype": "text/x-python",
   "name": "python",
   "nbconvert_exporter": "python",
   "pygments_lexer": "ipython3",
   "version": "3.7.3"
  },
  "toc": {
   "base_numbering": 1,
   "nav_menu": {},
   "number_sections": true,
   "sideBar": true,
   "skip_h1_title": false,
   "title_cell": "Table of Contents",
   "title_sidebar": "Contents",
   "toc_cell": false,
   "toc_position": {},
   "toc_section_display": true,
   "toc_window_display": false
  }
 },
 "nbformat": 4,
 "nbformat_minor": 2
}
